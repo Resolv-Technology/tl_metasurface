{
 "cells": [
  {
   "cell_type": "code",
   "execution_count": 1,
   "metadata": {},
   "outputs": [
    {
     "name": "stdout",
     "output_type": "stream",
     "text": [
      "PARAMETER                 VALUE                    \n",
      "f                         24000000000.0            \n",
      "Lx                        0.2                      \n",
      "delta_x                   0.003122838104166667     \n",
      "a                         0.006                    \n",
      "b                         0.000762                 \n",
      "m                         1                        \n",
      "n                         0                        \n",
      "epsilon_r                 3.48                     \n",
      "tan_delta                 0.0037                   \n",
      "sigma_wall                58000000.0               \n",
      "omega                     150796447372.31006       \n",
      "k                         938.3395659010636        \n",
      "lambda                    0.006696067751492503     \n",
      "beta_g                    778.6690331118599        \n",
      "lambda_g                  0.008069134690087224     \n",
      "f_c                       13392135502.985004       \n",
      "R_s                       0.04041769037021657      \n",
      "alpha_d                   2.0918901888531694       \n",
      "alpha_c                   0.1830838199840143       \n",
      "alpha                     2.2749740088371837       \n",
      "\n"
     ]
    }
   ],
   "source": [
    "import numpy as np\n",
    "from matplotlib import pyplot as plt\n",
    "import scipy.constants\n",
    "import sys\n",
    "sys.path.append('..')\n",
    "from tl_metasurface.antenna import RectangularWaveguide\n",
    "\n",
    "C = scipy.constants.c\n",
    "\n",
    "f = 24E9\n",
    "lam = C / f\n",
    "\n",
    "rw = RectangularWaveguide(f=f,\n",
    "                          element=None, \n",
    "                          Lx=0.2, \n",
    "                          delta_x=lam/4,\n",
    "                          a=0.006,\n",
    "                          b=0.000762,\n",
    "                          epsilon_r=3.48,\n",
    "                          tan_delta=0.0037,\n",
    "                          sigma_wall=5.8E7)\n",
    "print(rw)"
   ]
  }
 ],
 "metadata": {
  "kernelspec": {
   "display_name": "twi_environment",
   "language": "python",
   "name": "python3"
  },
  "language_info": {
   "codemirror_mode": {
    "name": "ipython",
    "version": 3
   },
   "file_extension": ".py",
   "mimetype": "text/x-python",
   "name": "python",
   "nbconvert_exporter": "python",
   "pygments_lexer": "ipython3",
   "version": "3.11.5"
  }
 },
 "nbformat": 4,
 "nbformat_minor": 2
}
